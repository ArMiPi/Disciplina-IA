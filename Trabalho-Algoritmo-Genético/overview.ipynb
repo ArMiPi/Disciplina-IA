{
 "cells": [
  {
   "cell_type": "markdown",
   "metadata": {},
   "source": [
    "# Ideia"
   ]
  },
  {
   "cell_type": "markdown",
   "metadata": {},
   "source": [
    "Montar a grade de horários para 4 turmas, representando turmas do ensino médio (1º ano, 2º ano, 3ª ano e Cursinho). Cada turma tem os seguintes horários regulares:\n",
    "\n",
    "|   | Segunda | Terça | Quarta | Quinta | Sexta |\n",
    "|---|---|---|---|---|---|\n",
    "| 08:20 - 10:00 |  |  |  |  |  |\n",
    "| 10:15 - 11:55 |  |  |  |  |  |\n",
    "| 14:00 - 15:40 |  |  |  |  |  |\n",
    "| 15:55 - 17:35 |  |  |  |  |  |"
   ]
  },
  {
   "cell_type": "markdown",
   "metadata": {},
   "source": [
    "Todas as turmas devem ter as seguintes disciplinas, com o seguinte número mínimo de aulas por semana (APS):\n",
    "\n",
    "| Disciplina | APS |\n",
    "|---|---|\n",
    "| Matemática | 3 |\n",
    "| Química | 2 |\n",
    "| Física | 2 |\n",
    "| Biologia | 2 |\n",
    "| Português | 3 |\n",
    "| História | 3 |\n",
    "| Geografia | 3 |\n",
    "| Artes | 1 |\n",
    "| Inglês | 1 |"
   ]
  },
  {
   "cell_type": "markdown",
   "metadata": {},
   "source": [
    "Alguns professores podem ministram mais de uma disciplina, a relação professores/disciplina está no arquivo *`disciplinas.csv`*."
   ]
  },
  {
   "cell_type": "markdown",
   "metadata": {},
   "source": [
    "## Regras"
   ]
  },
  {
   "cell_type": "markdown",
   "metadata": {},
   "source": [
    "1. Um professor não pode estar em aula em duas turmas no mesmo horário\n",
    "1. Todas as turmas devem cumprir as cargas horárias das disciplinas\n",
    "1. Uma turma não deve ter duas aulas seguidas da mesma matéria (Ex: Matemática -> Matemática -> Química -> Portugês)\n",
    "1. Deve-se evitar ao máximo que uma turma tenha aulas seguidas com o mesmo professor  \n",
    "&nbsp;&nbsp;&nbsp;&nbsp;(Ex: Matemática -> Física -> Artes -> Inglês | Artes -> Matemática -> Física -> Inglês)"
   ]
  },
  {
   "cell_type": "markdown",
   "metadata": {},
   "source": [
    "## Representação"
   ]
  },
  {
   "cell_type": "markdown",
   "metadata": {},
   "source": [
    "Cada indivíduo será representado por uma matriz 4x20. Onde cada linha representa uma coluna, e cada coluna representa um horário, sendo que, cada grupo de 4 colunas representa um dia da semana."
   ]
  },
  {
   "cell_type": "markdown",
   "metadata": {},
   "source": [
    "Por exemplo, o seguinte horário fictício:\n",
    "\n",
    "|   | Segunda | Terça | Quarta | Quinta | Sexta |\n",
    "|---|---|---|---|---|---|\n",
    "| 08:20 - 10:00 | Matemática | Português | Artes | História | Biologia |\n",
    "| 10:15 - 11:55 | Química | História | Geografia | Português | Física |\n",
    "| 14:00 - 15:40 | Física | Inglês | Matemática | História | Química |\n",
    "| 15:55 - 17:35 | Biologia | Geografia | Geografia | Português | Matemática |"
   ]
  },
  {
   "cell_type": "markdown",
   "metadata": {},
   "source": [
    "Seria representado da seguinte maneira, como uma linha da tabela\n",
    "\n"
   ]
  },
  {
   "cell_type": "markdown",
   "metadata": {},
   "source": [
    "[\"Matemática\", \"Química\", \"Física\", \"Biologia\", \"Português\", \"História\", \"Inglês\", \"Geografia\", \"Artes\", \"Geografia\", \"Matemática\", \"Geografia\", \"História\", \"Português\", \"História\", \"Português\", \"Biologia\", \"Física\", \"Química\", \"Matemática\"]"
   ]
  },
  {
   "cell_type": "markdown",
   "metadata": {},
   "source": [
    "# Leitura do Dataset"
   ]
  },
  {
   "cell_type": "code",
   "execution_count": 1,
   "metadata": {},
   "outputs": [
    {
     "data": {
      "text/html": [
       "<div>\n",
       "<style scoped>\n",
       "    .dataframe tbody tr th:only-of-type {\n",
       "        vertical-align: middle;\n",
       "    }\n",
       "\n",
       "    .dataframe tbody tr th {\n",
       "        vertical-align: top;\n",
       "    }\n",
       "\n",
       "    .dataframe thead th {\n",
       "        text-align: right;\n",
       "    }\n",
       "</style>\n",
       "<table border=\"1\" class=\"dataframe\">\n",
       "  <thead>\n",
       "    <tr style=\"text-align: right;\">\n",
       "      <th></th>\n",
       "      <th>Nome</th>\n",
       "      <th>Professor</th>\n",
       "      <th>Aulas por Semana</th>\n",
       "    </tr>\n",
       "  </thead>\n",
       "  <tbody>\n",
       "    <tr>\n",
       "      <th>0</th>\n",
       "      <td>Matemática</td>\n",
       "      <td>Manuel</td>\n",
       "      <td>3</td>\n",
       "    </tr>\n",
       "    <tr>\n",
       "      <th>1</th>\n",
       "      <td>Química</td>\n",
       "      <td>Sérgio</td>\n",
       "      <td>2</td>\n",
       "    </tr>\n",
       "    <tr>\n",
       "      <th>2</th>\n",
       "      <td>Física</td>\n",
       "      <td>Manuel</td>\n",
       "      <td>2</td>\n",
       "    </tr>\n",
       "    <tr>\n",
       "      <th>3</th>\n",
       "      <td>Biologia</td>\n",
       "      <td>Sérgio</td>\n",
       "      <td>2</td>\n",
       "    </tr>\n",
       "    <tr>\n",
       "      <th>4</th>\n",
       "      <td>Português</td>\n",
       "      <td>Cláudia</td>\n",
       "      <td>3</td>\n",
       "    </tr>\n",
       "    <tr>\n",
       "      <th>5</th>\n",
       "      <td>História</td>\n",
       "      <td>Sônia</td>\n",
       "      <td>3</td>\n",
       "    </tr>\n",
       "    <tr>\n",
       "      <th>6</th>\n",
       "      <td>Geografia</td>\n",
       "      <td>Sônia</td>\n",
       "      <td>3</td>\n",
       "    </tr>\n",
       "    <tr>\n",
       "      <th>7</th>\n",
       "      <td>Artes</td>\n",
       "      <td>Pablo</td>\n",
       "      <td>1</td>\n",
       "    </tr>\n",
       "    <tr>\n",
       "      <th>8</th>\n",
       "      <td>Inglês</td>\n",
       "      <td>Cláudia</td>\n",
       "      <td>1</td>\n",
       "    </tr>\n",
       "  </tbody>\n",
       "</table>\n",
       "</div>"
      ],
      "text/plain": [
       "         Nome Professor  Aulas por Semana\n",
       "0  Matemática    Manuel                 3\n",
       "1     Química    Sérgio                 2\n",
       "2      Física    Manuel                 2\n",
       "3    Biologia    Sérgio                 2\n",
       "4   Português   Cláudia                 3\n",
       "5    História     Sônia                 3\n",
       "6   Geografia     Sônia                 3\n",
       "7       Artes     Pablo                 1\n",
       "8      Inglês   Cláudia                 1"
      ]
     },
     "execution_count": 1,
     "metadata": {},
     "output_type": "execute_result"
    }
   ],
   "source": [
    "import pandas as pd\n",
    "\n",
    "dataset = pd.read_csv('disciplinas.csv', sep=';')\n",
    "\n",
    "dataset"
   ]
  },
  {
   "cell_type": "markdown",
   "metadata": {},
   "source": [
    "# Criar de uma população inicial"
   ]
  },
  {
   "cell_type": "markdown",
   "metadata": {},
   "source": [
    "## Ideia"
   ]
  },
  {
   "cell_type": "markdown",
   "metadata": {},
   "source": [
    "Um indivíduo será representado por uma matriz 4x20, onde cada linha representa uma turma (1º ano, 2º ano, 3º ano e Cursinho) e cada coluna representa um horário, sendo que cada grupo de 4 colunas representa um dia da semana.\n",
    "\n",
    "A tabela será preenchida por números inteiros escolhidos aleatoriamente no intervalo (0, 8). Sendo que cada inteiro representa uma disciplina.\n",
    "\n",
    "| Índice | Disciplina |\n",
    "|---|---|\n",
    "| 0 | Matemática |\n",
    "| 1 | Química |\n",
    "| 2 | Física |\n",
    "| 3 | Biologia |\n",
    "| 4 | Português |\n",
    "| 5 | História |\n",
    "| 6 | Geografia |\n",
    "| 7 | Artes |\n",
    "| 8 | Inglês |"
   ]
  },
  {
   "cell_type": "markdown",
   "metadata": {},
   "source": [
    "Para a população inicial serão criadas 20 matrizes."
   ]
  },
  {
   "cell_type": "code",
   "execution_count": 2,
   "metadata": {},
   "outputs": [],
   "source": [
    "import random as rd\n",
    "\n",
    "populacao_inical = []\n",
    "\n",
    "for i in range(20):\n",
    "    temp = []\n",
    "\n",
    "    for line in range(4):\n",
    "        temp.append([rd.randrange(0, 9) for _ in range(20)])\n",
    "    \n",
    "    populacao_inical.append(temp)"
   ]
  },
  {
   "cell_type": "code",
   "execution_count": 3,
   "metadata": {},
   "outputs": [
    {
     "name": "stdout",
     "output_type": "stream",
     "text": [
      "[[4, 2, 6, 1, 0, 7, 5, 8, 8, 5, 2, 4, 7, 5, 6, 6, 7, 2, 6, 0], [7, 2, 7, 4, 0, 5, 4, 5, 7, 4, 2, 2, 8, 1, 0, 7, 2, 3, 6, 4], [4, 2, 8, 8, 8, 7, 3, 1, 2, 2, 1, 6, 5, 6, 8, 1, 7, 4, 1, 0], [0, 8, 2, 6, 6, 7, 4, 8, 4, 4, 6, 7, 3, 3, 1, 5, 8, 6, 7, 5]]\n",
      "[[7, 2, 3, 2, 3, 8, 5, 7, 4, 6, 8, 2, 4, 2, 3, 6, 0, 5, 5, 3], [1, 8, 3, 8, 6, 2, 6, 6, 8, 3, 4, 3, 8, 6, 4, 0, 6, 0, 1, 5], [6, 4, 1, 7, 3, 2, 6, 4, 8, 1, 1, 2, 7, 6, 2, 8, 1, 8, 5, 4], [1, 8, 4, 6, 7, 5, 7, 8, 3, 4, 7, 7, 3, 0, 8, 5, 2, 2, 7, 8]]\n",
      "[[5, 1, 6, 1, 7, 1, 4, 5, 3, 8, 3, 1, 1, 2, 8, 0, 5, 7, 3, 2], [3, 5, 4, 6, 5, 7, 6, 6, 0, 6, 3, 6, 2, 7, 2, 6, 1, 5, 6, 5], [3, 4, 0, 6, 2, 0, 8, 7, 8, 8, 1, 4, 1, 8, 5, 3, 3, 5, 6, 3], [8, 0, 8, 3, 5, 5, 8, 0, 3, 8, 7, 4, 8, 5, 1, 1, 0, 7, 4, 2]]\n",
      "[[7, 5, 8, 7, 2, 4, 3, 5, 2, 4, 5, 1, 2, 1, 1, 6, 5, 2, 1, 6], [3, 8, 7, 3, 0, 8, 1, 1, 4, 3, 1, 8, 1, 6, 5, 7, 6, 0, 6, 6], [0, 3, 0, 0, 7, 3, 4, 2, 7, 5, 8, 4, 8, 6, 4, 0, 5, 8, 0, 2], [7, 5, 8, 2, 8, 5, 4, 0, 2, 8, 7, 7, 2, 7, 1, 1, 6, 6, 2, 7]]\n",
      "[[0, 2, 3, 0, 5, 5, 6, 6, 1, 5, 0, 0, 0, 2, 1, 3, 8, 2, 7, 5], [8, 7, 4, 4, 2, 2, 6, 6, 1, 8, 7, 5, 3, 2, 3, 5, 7, 6, 7, 2], [8, 7, 8, 3, 1, 1, 2, 2, 3, 7, 4, 3, 0, 1, 6, 1, 6, 4, 1, 7], [6, 1, 4, 4, 4, 8, 0, 6, 8, 2, 0, 1, 7, 4, 8, 2, 0, 4, 5, 4]]\n",
      "[[5, 4, 7, 7, 3, 3, 4, 0, 0, 0, 8, 7, 2, 2, 4, 7, 7, 3, 1, 4], [2, 0, 4, 8, 2, 2, 3, 3, 1, 7, 1, 1, 5, 8, 7, 4, 6, 3, 8, 2], [2, 6, 5, 2, 3, 8, 2, 6, 0, 1, 1, 2, 5, 8, 3, 8, 5, 4, 4, 4], [7, 1, 3, 0, 6, 6, 7, 6, 5, 3, 0, 7, 0, 2, 3, 1, 8, 8, 3, 5]]\n",
      "[[4, 3, 6, 4, 5, 8, 1, 7, 6, 4, 3, 6, 7, 6, 4, 5, 0, 6, 8, 2], [5, 1, 8, 1, 0, 3, 1, 6, 7, 7, 7, 1, 4, 5, 8, 7, 0, 0, 4, 3], [0, 4, 2, 8, 4, 6, 2, 5, 4, 3, 2, 6, 4, 4, 2, 2, 7, 6, 7, 6], [0, 8, 8, 3, 3, 5, 3, 4, 7, 1, 5, 8, 7, 5, 3, 5, 7, 0, 3, 1]]\n",
      "[[8, 8, 7, 3, 8, 8, 3, 6, 4, 3, 5, 4, 1, 5, 5, 7, 5, 0, 5, 2], [8, 5, 8, 4, 0, 0, 8, 2, 4, 0, 5, 1, 2, 6, 5, 4, 5, 7, 3, 2], [8, 4, 6, 7, 4, 1, 8, 7, 3, 2, 7, 1, 8, 4, 6, 3, 5, 5, 5, 6], [4, 2, 2, 1, 2, 6, 5, 0, 6, 0, 1, 0, 8, 7, 3, 0, 3, 3, 3, 4]]\n",
      "[[1, 7, 6, 7, 2, 2, 2, 0, 7, 2, 0, 2, 6, 1, 2, 0, 3, 6, 2, 5], [1, 4, 0, 3, 8, 2, 2, 7, 5, 2, 3, 1, 2, 7, 6, 1, 0, 2, 7, 8], [8, 0, 5, 6, 5, 5, 2, 6, 0, 3, 1, 0, 3, 3, 4, 5, 2, 0, 4, 7], [3, 1, 8, 5, 8, 5, 3, 2, 3, 6, 7, 4, 2, 2, 3, 1, 0, 0, 7, 4]]\n",
      "[[5, 4, 4, 2, 5, 1, 7, 2, 6, 8, 7, 0, 0, 3, 3, 0, 8, 5, 1, 8], [2, 3, 3, 5, 1, 4, 8, 0, 8, 1, 7, 2, 6, 5, 5, 1, 5, 1, 7, 6], [6, 5, 2, 3, 7, 5, 3, 1, 6, 2, 4, 1, 7, 4, 5, 5, 4, 0, 8, 7], [5, 5, 8, 1, 5, 4, 1, 3, 0, 6, 3, 0, 3, 5, 6, 4, 4, 6, 7, 1]]\n",
      "[[6, 5, 5, 3, 0, 4, 1, 6, 2, 2, 5, 1, 3, 6, 7, 3, 3, 7, 3, 8], [0, 2, 0, 3, 1, 0, 2, 1, 1, 3, 6, 4, 3, 3, 8, 6, 6, 4, 0, 5], [1, 5, 0, 5, 6, 2, 6, 0, 8, 1, 3, 4, 7, 5, 4, 5, 2, 4, 2, 2], [6, 8, 2, 3, 8, 8, 8, 6, 0, 5, 5, 3, 7, 6, 7, 8, 4, 5, 6, 5]]\n",
      "[[4, 0, 0, 6, 5, 4, 6, 3, 5, 6, 6, 7, 8, 6, 1, 1, 8, 2, 3, 2], [6, 7, 3, 7, 6, 2, 5, 6, 3, 7, 3, 3, 3, 3, 5, 6, 6, 0, 6, 2], [0, 8, 1, 6, 7, 4, 2, 5, 4, 5, 6, 3, 5, 8, 2, 5, 1, 0, 3, 7], [1, 0, 0, 4, 7, 4, 6, 2, 1, 8, 2, 0, 6, 1, 1, 1, 8, 7, 6, 7]]\n",
      "[[1, 5, 4, 2, 1, 2, 3, 0, 3, 5, 8, 0, 8, 5, 6, 6, 8, 4, 1, 8], [4, 2, 4, 2, 5, 0, 7, 6, 3, 4, 0, 6, 4, 2, 4, 7, 6, 2, 3, 6], [0, 7, 0, 5, 0, 7, 6, 7, 0, 7, 5, 3, 2, 4, 0, 0, 6, 6, 4, 4], [1, 4, 5, 0, 2, 0, 0, 4, 3, 1, 4, 4, 7, 8, 0, 2, 2, 5, 6, 8]]\n",
      "[[3, 8, 6, 1, 4, 6, 8, 4, 8, 8, 0, 4, 2, 6, 3, 5, 6, 1, 7, 4], [1, 1, 8, 8, 1, 4, 0, 2, 1, 3, 4, 4, 4, 0, 3, 1, 6, 8, 0, 3], [3, 4, 0, 0, 1, 3, 4, 3, 4, 2, 4, 3, 1, 3, 4, 6, 7, 3, 3, 5], [2, 0, 3, 0, 3, 6, 3, 4, 8, 1, 2, 0, 8, 1, 8, 5, 8, 5, 0, 8]]\n",
      "[[0, 4, 7, 7, 6, 0, 0, 8, 4, 4, 3, 6, 0, 3, 8, 4, 4, 1, 2, 0], [3, 4, 5, 8, 0, 5, 1, 8, 2, 8, 7, 5, 3, 0, 2, 0, 2, 7, 1, 6], [6, 2, 6, 2, 6, 3, 7, 4, 3, 7, 1, 8, 4, 4, 2, 1, 1, 4, 3, 1], [8, 2, 3, 5, 5, 3, 5, 3, 5, 5, 1, 6, 0, 4, 4, 0, 1, 5, 3, 3]]\n",
      "[[5, 5, 2, 6, 7, 0, 1, 8, 4, 0, 6, 6, 5, 1, 5, 4, 6, 0, 5, 4], [5, 0, 5, 6, 0, 3, 6, 2, 6, 7, 3, 7, 4, 4, 6, 3, 6, 0, 8, 6], [5, 1, 8, 6, 3, 3, 3, 7, 7, 1, 4, 6, 3, 1, 3, 5, 3, 5, 6, 6], [5, 2, 2, 7, 1, 8, 3, 0, 0, 4, 4, 5, 7, 0, 0, 3, 7, 2, 4, 0]]\n",
      "[[6, 2, 1, 4, 8, 6, 5, 0, 4, 2, 4, 4, 4, 7, 6, 6, 5, 3, 3, 7], [4, 3, 1, 7, 1, 0, 2, 1, 8, 6, 4, 3, 2, 8, 4, 6, 7, 0, 1, 0], [4, 8, 6, 1, 4, 2, 4, 4, 7, 0, 0, 1, 5, 8, 0, 4, 6, 1, 8, 5], [5, 5, 2, 8, 7, 5, 0, 7, 6, 2, 0, 2, 2, 5, 0, 7, 8, 7, 7, 1]]\n",
      "[[7, 8, 0, 1, 6, 6, 5, 2, 7, 6, 6, 3, 1, 3, 0, 4, 6, 6, 5, 5], [0, 8, 5, 4, 6, 4, 2, 8, 2, 3, 6, 5, 2, 5, 7, 5, 6, 3, 7, 1], [0, 2, 8, 6, 8, 0, 8, 7, 0, 5, 4, 5, 7, 1, 7, 0, 6, 1, 5, 3], [8, 4, 4, 6, 5, 5, 4, 4, 1, 5, 2, 7, 7, 1, 5, 8, 4, 8, 3, 4]]\n",
      "[[1, 0, 1, 6, 3, 2, 0, 7, 4, 3, 3, 7, 8, 7, 5, 8, 1, 4, 6, 7], [3, 1, 2, 6, 8, 2, 0, 2, 8, 0, 5, 1, 1, 4, 8, 3, 8, 3, 4, 0], [7, 5, 4, 2, 6, 2, 8, 0, 5, 1, 2, 7, 2, 2, 6, 6, 7, 3, 7, 7], [8, 8, 8, 4, 2, 0, 8, 3, 7, 8, 7, 3, 0, 0, 0, 6, 4, 3, 1, 3]]\n",
      "[[7, 2, 8, 5, 1, 7, 2, 2, 2, 8, 8, 0, 0, 4, 7, 4, 0, 5, 3, 5], [4, 6, 8, 5, 7, 5, 6, 3, 5, 3, 4, 6, 3, 1, 5, 1, 2, 4, 6, 2], [2, 6, 3, 6, 5, 6, 6, 1, 1, 0, 3, 7, 2, 6, 2, 1, 5, 7, 5, 6], [0, 0, 3, 1, 7, 1, 5, 0, 1, 8, 4, 2, 1, 1, 3, 1, 8, 6, 8, 0]]\n"
     ]
    }
   ],
   "source": [
    "# Visualizar população inicial\n",
    "for t in populacao_inical:\n",
    "    print(t)"
   ]
  },
  {
   "cell_type": "markdown",
   "metadata": {},
   "source": [
    "# Função Fitness"
   ]
  }
 ],
 "metadata": {
  "kernelspec": {
   "display_name": "venv",
   "language": "python",
   "name": "python3"
  },
  "language_info": {
   "codemirror_mode": {
    "name": "ipython",
    "version": 3
   },
   "file_extension": ".py",
   "mimetype": "text/x-python",
   "name": "python",
   "nbconvert_exporter": "python",
   "pygments_lexer": "ipython3",
   "version": "3.11.1"
  },
  "orig_nbformat": 4
 },
 "nbformat": 4,
 "nbformat_minor": 2
}
