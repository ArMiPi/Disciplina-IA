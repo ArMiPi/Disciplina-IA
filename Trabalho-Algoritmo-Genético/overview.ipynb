{
  "cells": [
    {
      "cell_type": "markdown",
      "metadata": {
        "id": "tP0b-QcFP_mv"
      },
      "source": [
        "# Ideia"
      ]
    },
    {
      "cell_type": "markdown",
      "metadata": {
        "id": "wkE0F3iKP_mx"
      },
      "source": [
        "Montar a grade de horários para 4 turmas, representando turmas do ensino médio (1º ano, 2º ano, 3ª ano e Cursinho). Cada turma tem os seguintes horários regulares:\n",
        "\n",
        "|   | Segunda | Terça | Quarta | Quinta | Sexta |\n",
        "|---|---|---|---|---|---|\n",
        "| 08:20 - 10:00 |  |  |  |  |  |\n",
        "| 10:15 - 11:55 |  |  |  |  |  |\n",
        "| 14:00 - 15:40 |  |  |  |  |  |\n",
        "| 15:55 - 17:35 |  |  |  |  |  |"
      ]
    },
    {
      "cell_type": "markdown",
      "metadata": {
        "id": "nGu_9_jHP_my"
      },
      "source": [
        "Todas as turmas devem ter as seguintes disciplinas, com o seguinte número mínimo de aulas por semana (APS):\n",
        "\n",
        "| Disciplina | APS |\n",
        "|---|---|\n",
        "| Matemática | 3 |\n",
        "| Química | 2 |\n",
        "| Física | 2 |\n",
        "| Biologia | 2 |\n",
        "| Português | 3 |\n",
        "| História | 3 |\n",
        "| Geografia | 3 |\n",
        "| Artes | 1 |\n",
        "| Inglês | 1 |"
      ]
    },
    {
      "cell_type": "markdown",
      "metadata": {
        "id": "hu0F2npwP_mz"
      },
      "source": [
        "Alguns professores podem ministram mais de uma disciplina, a relação professores/disciplina está no arquivo *`disciplinas.csv`*."
      ]
    },
    {
      "cell_type": "markdown",
      "metadata": {
        "id": "87_r5kS4P_mz"
      },
      "source": [
        "## Regras"
      ]
    },
    {
      "cell_type": "markdown",
      "metadata": {
        "id": "o4E_-bn_P_m0"
      },
      "source": [
        "1. Um professor não pode estar em aula em duas turmas no mesmo horário [Hard Constaint]\n",
        "1. Todas as turmas devem cumprir as cargas horárias das disciplinas [Hard Constaint]\n",
        "1. Uma turma não deve ter duas aulas seguidas da mesma matéria (Ex: Matemática -> Matemática -> Química -> Portugês) [Soft Constaint]\n",
        "1. Deve-se evitar ao máximo que uma turma tenha aulas seguidas com o mesmo professor [Soft Constaint]  \n",
        "&nbsp;&nbsp;&nbsp;&nbsp;(Ex: Matemática -> Física -> Artes -> Inglês | Artes -> Matemática -> Física -> Inglês)"
      ]
    },
    {
      "cell_type": "markdown",
      "metadata": {
        "id": "jrP6EwGMP_m1"
      },
      "source": [
        "## Representação"
      ]
    },
    {
      "cell_type": "markdown",
      "metadata": {
        "id": "3XKXX3DrP_m2"
      },
      "source": [
        "Cada indivíduo será representado por uma matriz 4x20. Onde cada linha representa uma coluna, e cada coluna representa um horário, sendo que, cada grupo de 4 colunas representa um dia da semana."
      ]
    },
    {
      "cell_type": "markdown",
      "metadata": {
        "id": "PEzxACHmP_m3"
      },
      "source": [
        "Por exemplo, o seguinte horário fictício:\n",
        "\n",
        "|   | Segunda | Terça | Quarta | Quinta | Sexta |\n",
        "|---|---|---|---|---|---|\n",
        "| 08:20 - 10:00 | Matemática | Português | Artes | História | Biologia |\n",
        "| 10:15 - 11:55 | Química | História | Geografia | Português | Física |\n",
        "| 14:00 - 15:40 | Física | Inglês | Matemática | História | Química |\n",
        "| 15:55 - 17:35 | Biologia | Geografia | Geografia | Português | Matemática |"
      ]
    },
    {
      "cell_type": "markdown",
      "metadata": {
        "id": "5qkQGjEpP_m3"
      },
      "source": [
        "Seria representado da seguinte maneira, como uma linha da tabela\n",
        "\n"
      ]
    },
    {
      "cell_type": "markdown",
      "metadata": {
        "id": "nHQ4Rdy_P_m4"
      },
      "source": [
        "[\"Matemática\", \"Química\", \"Física\", \"Biologia\", \"Português\", \"História\", \"Inglês\", \"Geografia\", \"Artes\", \"Geografia\", \"Matemática\", \"Geografia\", \"História\", \"Português\", \"História\", \"Português\", \"Biologia\", \"Física\", \"Química\", \"Matemática\"]"
      ]
    },
    {
      "cell_type": "markdown",
      "metadata": {
        "id": "6CVHudAeP_m4"
      },
      "source": [
        "# Leitura do Dataset"
      ]
    },
    {
      "cell_type": "code",
      "execution_count": 81,
      "metadata": {
        "colab": {
          "base_uri": "https://localhost:8080/",
          "height": 332
        },
        "id": "3HDSP5BeP_m4",
        "outputId": "6a40a131-e1d6-42ec-b026-504ae3c958fd"
      },
      "outputs": [
        {
          "data": {
            "text/html": [
              "\n",
              "  <div id=\"df-d0ccd328-63a2-4152-b13d-c1433503a9ec\" class=\"colab-df-container\">\n",
              "    <div>\n",
              "<style scoped>\n",
              "    .dataframe tbody tr th:only-of-type {\n",
              "        vertical-align: middle;\n",
              "    }\n",
              "\n",
              "    .dataframe tbody tr th {\n",
              "        vertical-align: top;\n",
              "    }\n",
              "\n",
              "    .dataframe thead th {\n",
              "        text-align: right;\n",
              "    }\n",
              "</style>\n",
              "<table border=\"1\" class=\"dataframe\">\n",
              "  <thead>\n",
              "    <tr style=\"text-align: right;\">\n",
              "      <th></th>\n",
              "      <th>Nome</th>\n",
              "      <th>Professor</th>\n",
              "      <th>Aulas por Semana</th>\n",
              "    </tr>\n",
              "  </thead>\n",
              "  <tbody>\n",
              "    <tr>\n",
              "      <th>0</th>\n",
              "      <td>Matemática</td>\n",
              "      <td>Manuel</td>\n",
              "      <td>3</td>\n",
              "    </tr>\n",
              "    <tr>\n",
              "      <th>1</th>\n",
              "      <td>Química</td>\n",
              "      <td>Sérgio</td>\n",
              "      <td>2</td>\n",
              "    </tr>\n",
              "    <tr>\n",
              "      <th>2</th>\n",
              "      <td>Física</td>\n",
              "      <td>Manuel</td>\n",
              "      <td>2</td>\n",
              "    </tr>\n",
              "    <tr>\n",
              "      <th>3</th>\n",
              "      <td>Biologia</td>\n",
              "      <td>Sérgio</td>\n",
              "      <td>2</td>\n",
              "    </tr>\n",
              "    <tr>\n",
              "      <th>4</th>\n",
              "      <td>Português</td>\n",
              "      <td>Cláudia</td>\n",
              "      <td>3</td>\n",
              "    </tr>\n",
              "    <tr>\n",
              "      <th>5</th>\n",
              "      <td>História</td>\n",
              "      <td>Sônia</td>\n",
              "      <td>3</td>\n",
              "    </tr>\n",
              "    <tr>\n",
              "      <th>6</th>\n",
              "      <td>Geografia</td>\n",
              "      <td>Sônia</td>\n",
              "      <td>3</td>\n",
              "    </tr>\n",
              "    <tr>\n",
              "      <th>7</th>\n",
              "      <td>Artes</td>\n",
              "      <td>Pablo</td>\n",
              "      <td>1</td>\n",
              "    </tr>\n",
              "    <tr>\n",
              "      <th>8</th>\n",
              "      <td>Inglês</td>\n",
              "      <td>Cláudia</td>\n",
              "      <td>1</td>\n",
              "    </tr>\n",
              "  </tbody>\n",
              "</table>\n",
              "</div>\n",
              "    <div class=\"colab-df-buttons\">\n",
              "\n",
              "  <div class=\"colab-df-container\">\n",
              "    <button class=\"colab-df-convert\" onclick=\"convertToInteractive('df-d0ccd328-63a2-4152-b13d-c1433503a9ec')\"\n",
              "            title=\"Convert this dataframe to an interactive table.\"\n",
              "            style=\"display:none;\">\n",
              "\n",
              "  <svg xmlns=\"http://www.w3.org/2000/svg\" height=\"24px\" viewBox=\"0 -960 960 960\">\n",
              "    <path d=\"M120-120v-720h720v720H120Zm60-500h600v-160H180v160Zm220 220h160v-160H400v160Zm0 220h160v-160H400v160ZM180-400h160v-160H180v160Zm440 0h160v-160H620v160ZM180-180h160v-160H180v160Zm440 0h160v-160H620v160Z\"/>\n",
              "  </svg>\n",
              "    </button>\n",
              "\n",
              "  <style>\n",
              "    .colab-df-container {\n",
              "      display:flex;\n",
              "      gap: 12px;\n",
              "    }\n",
              "\n",
              "    .colab-df-convert {\n",
              "      background-color: #E8F0FE;\n",
              "      border: none;\n",
              "      border-radius: 50%;\n",
              "      cursor: pointer;\n",
              "      display: none;\n",
              "      fill: #1967D2;\n",
              "      height: 32px;\n",
              "      padding: 0 0 0 0;\n",
              "      width: 32px;\n",
              "    }\n",
              "\n",
              "    .colab-df-convert:hover {\n",
              "      background-color: #E2EBFA;\n",
              "      box-shadow: 0px 1px 2px rgba(60, 64, 67, 0.3), 0px 1px 3px 1px rgba(60, 64, 67, 0.15);\n",
              "      fill: #174EA6;\n",
              "    }\n",
              "\n",
              "    .colab-df-buttons div {\n",
              "      margin-bottom: 4px;\n",
              "    }\n",
              "\n",
              "    [theme=dark] .colab-df-convert {\n",
              "      background-color: #3B4455;\n",
              "      fill: #D2E3FC;\n",
              "    }\n",
              "\n",
              "    [theme=dark] .colab-df-convert:hover {\n",
              "      background-color: #434B5C;\n",
              "      box-shadow: 0px 1px 3px 1px rgba(0, 0, 0, 0.15);\n",
              "      filter: drop-shadow(0px 1px 2px rgba(0, 0, 0, 0.3));\n",
              "      fill: #FFFFFF;\n",
              "    }\n",
              "  </style>\n",
              "\n",
              "    <script>\n",
              "      const buttonEl =\n",
              "        document.querySelector('#df-d0ccd328-63a2-4152-b13d-c1433503a9ec button.colab-df-convert');\n",
              "      buttonEl.style.display =\n",
              "        google.colab.kernel.accessAllowed ? 'block' : 'none';\n",
              "\n",
              "      async function convertToInteractive(key) {\n",
              "        const element = document.querySelector('#df-d0ccd328-63a2-4152-b13d-c1433503a9ec');\n",
              "        const dataTable =\n",
              "          await google.colab.kernel.invokeFunction('convertToInteractive',\n",
              "                                                    [key], {});\n",
              "        if (!dataTable) return;\n",
              "\n",
              "        const docLinkHtml = 'Like what you see? Visit the ' +\n",
              "          '<a target=\"_blank\" href=https://colab.research.google.com/notebooks/data_table.ipynb>data table notebook</a>'\n",
              "          + ' to learn more about interactive tables.';\n",
              "        element.innerHTML = '';\n",
              "        dataTable['output_type'] = 'display_data';\n",
              "        await google.colab.output.renderOutput(dataTable, element);\n",
              "        const docLink = document.createElement('div');\n",
              "        docLink.innerHTML = docLinkHtml;\n",
              "        element.appendChild(docLink);\n",
              "      }\n",
              "    </script>\n",
              "  </div>\n",
              "\n",
              "\n",
              "<div id=\"df-0c64a69b-d019-46ca-9129-df9b0e08f56d\">\n",
              "  <button class=\"colab-df-quickchart\" onclick=\"quickchart('df-0c64a69b-d019-46ca-9129-df9b0e08f56d')\"\n",
              "            title=\"Suggest charts.\"\n",
              "            style=\"display:none;\">\n",
              "\n",
              "<svg xmlns=\"http://www.w3.org/2000/svg\" height=\"24px\"viewBox=\"0 0 24 24\"\n",
              "     width=\"24px\">\n",
              "    <g>\n",
              "        <path d=\"M19 3H5c-1.1 0-2 .9-2 2v14c0 1.1.9 2 2 2h14c1.1 0 2-.9 2-2V5c0-1.1-.9-2-2-2zM9 17H7v-7h2v7zm4 0h-2V7h2v10zm4 0h-2v-4h2v4z\"/>\n",
              "    </g>\n",
              "</svg>\n",
              "  </button>\n",
              "\n",
              "<style>\n",
              "  .colab-df-quickchart {\n",
              "      --bg-color: #E8F0FE;\n",
              "      --fill-color: #1967D2;\n",
              "      --hover-bg-color: #E2EBFA;\n",
              "      --hover-fill-color: #174EA6;\n",
              "      --disabled-fill-color: #AAA;\n",
              "      --disabled-bg-color: #DDD;\n",
              "  }\n",
              "\n",
              "  [theme=dark] .colab-df-quickchart {\n",
              "      --bg-color: #3B4455;\n",
              "      --fill-color: #D2E3FC;\n",
              "      --hover-bg-color: #434B5C;\n",
              "      --hover-fill-color: #FFFFFF;\n",
              "      --disabled-bg-color: #3B4455;\n",
              "      --disabled-fill-color: #666;\n",
              "  }\n",
              "\n",
              "  .colab-df-quickchart {\n",
              "    background-color: var(--bg-color);\n",
              "    border: none;\n",
              "    border-radius: 50%;\n",
              "    cursor: pointer;\n",
              "    display: none;\n",
              "    fill: var(--fill-color);\n",
              "    height: 32px;\n",
              "    padding: 0;\n",
              "    width: 32px;\n",
              "  }\n",
              "\n",
              "  .colab-df-quickchart:hover {\n",
              "    background-color: var(--hover-bg-color);\n",
              "    box-shadow: 0 1px 2px rgba(60, 64, 67, 0.3), 0 1px 3px 1px rgba(60, 64, 67, 0.15);\n",
              "    fill: var(--button-hover-fill-color);\n",
              "  }\n",
              "\n",
              "  .colab-df-quickchart-complete:disabled,\n",
              "  .colab-df-quickchart-complete:disabled:hover {\n",
              "    background-color: var(--disabled-bg-color);\n",
              "    fill: var(--disabled-fill-color);\n",
              "    box-shadow: none;\n",
              "  }\n",
              "\n",
              "  .colab-df-spinner {\n",
              "    border: 2px solid var(--fill-color);\n",
              "    border-color: transparent;\n",
              "    border-bottom-color: var(--fill-color);\n",
              "    animation:\n",
              "      spin 1s steps(1) infinite;\n",
              "  }\n",
              "\n",
              "  @keyframes spin {\n",
              "    0% {\n",
              "      border-color: transparent;\n",
              "      border-bottom-color: var(--fill-color);\n",
              "      border-left-color: var(--fill-color);\n",
              "    }\n",
              "    20% {\n",
              "      border-color: transparent;\n",
              "      border-left-color: var(--fill-color);\n",
              "      border-top-color: var(--fill-color);\n",
              "    }\n",
              "    30% {\n",
              "      border-color: transparent;\n",
              "      border-left-color: var(--fill-color);\n",
              "      border-top-color: var(--fill-color);\n",
              "      border-right-color: var(--fill-color);\n",
              "    }\n",
              "    40% {\n",
              "      border-color: transparent;\n",
              "      border-right-color: var(--fill-color);\n",
              "      border-top-color: var(--fill-color);\n",
              "    }\n",
              "    60% {\n",
              "      border-color: transparent;\n",
              "      border-right-color: var(--fill-color);\n",
              "    }\n",
              "    80% {\n",
              "      border-color: transparent;\n",
              "      border-right-color: var(--fill-color);\n",
              "      border-bottom-color: var(--fill-color);\n",
              "    }\n",
              "    90% {\n",
              "      border-color: transparent;\n",
              "      border-bottom-color: var(--fill-color);\n",
              "    }\n",
              "  }\n",
              "</style>\n",
              "\n",
              "  <script>\n",
              "    async function quickchart(key) {\n",
              "      const quickchartButtonEl =\n",
              "        document.querySelector('#' + key + ' button');\n",
              "      quickchartButtonEl.disabled = true;  // To prevent multiple clicks.\n",
              "      quickchartButtonEl.classList.add('colab-df-spinner');\n",
              "      try {\n",
              "        const charts = await google.colab.kernel.invokeFunction(\n",
              "            'suggestCharts', [key], {});\n",
              "      } catch (error) {\n",
              "        console.error('Error during call to suggestCharts:', error);\n",
              "      }\n",
              "      quickchartButtonEl.classList.remove('colab-df-spinner');\n",
              "      quickchartButtonEl.classList.add('colab-df-quickchart-complete');\n",
              "    }\n",
              "    (() => {\n",
              "      let quickchartButtonEl =\n",
              "        document.querySelector('#df-0c64a69b-d019-46ca-9129-df9b0e08f56d button');\n",
              "      quickchartButtonEl.style.display =\n",
              "        google.colab.kernel.accessAllowed ? 'block' : 'none';\n",
              "    })();\n",
              "  </script>\n",
              "</div>\n",
              "    </div>\n",
              "  </div>\n"
            ],
            "text/plain": [
              "         Nome Professor  Aulas por Semana\n",
              "0  Matemática    Manuel                 3\n",
              "1     Química    Sérgio                 2\n",
              "2      Física    Manuel                 2\n",
              "3    Biologia    Sérgio                 2\n",
              "4   Português   Cláudia                 3\n",
              "5    História     Sônia                 3\n",
              "6   Geografia     Sônia                 3\n",
              "7       Artes     Pablo                 1\n",
              "8      Inglês   Cláudia                 1"
            ]
          },
          "execution_count": 81,
          "metadata": {},
          "output_type": "execute_result"
        }
      ],
      "source": [
        "import pandas as pd\n",
        "\n",
        "dataset = pd.read_csv('disciplinas.csv', sep=';')\n",
        "\n",
        "dataset"
      ]
    },
    {
      "cell_type": "markdown",
      "metadata": {
        "id": "f0cwbRxmP_m6"
      },
      "source": [
        "# Criar uma população inicial"
      ]
    },
    {
      "cell_type": "markdown",
      "metadata": {
        "id": "nEfgtPswP_m7"
      },
      "source": [
        "## Ideia"
      ]
    },
    {
      "cell_type": "markdown",
      "metadata": {
        "id": "V9pPJ255P_m7"
      },
      "source": [
        "Um indivíduo será representado por uma matriz 4x20, onde cada linha representa uma turma (1º ano, 2º ano, 3º ano e Cursinho) e cada coluna representa um horário, sendo que cada grupo de 4 colunas representa um dia da semana.\n",
        "\n",
        "A tabela será preenchida por números inteiros escolhidos aleatoriamente no intervalo (0, 8). Sendo que cada inteiro representa uma disciplina.\n",
        "\n",
        "| Índice | Disciplina |\n",
        "|---|---|\n",
        "| 0 | Matemática |\n",
        "| 1 | Química |\n",
        "| 2 | Física |\n",
        "| 3 | Biologia |\n",
        "| 4 | Português |\n",
        "| 5 | História |\n",
        "| 6 | Geografia |\n",
        "| 7 | Artes |\n",
        "| 8 | Inglês |"
      ]
    },
    {
      "cell_type": "markdown",
      "metadata": {
        "id": "h1Ie5K0VP_m7"
      },
      "source": [
        "Para a população inicial serão criadas 20 matrizes."
      ]
    },
    {
      "cell_type": "code",
      "execution_count": 82,
      "metadata": {
        "id": "uXu6D5SvP_m7"
      },
      "outputs": [],
      "source": [
        "import random as rd\n",
        "\n",
        "populacao_inical = []\n",
        "\n",
        "for i in range(20):\n",
        "    temp = []\n",
        "\n",
        "    for line in range(4):\n",
        "        temp.append([rd.randrange(0, 9) for _ in range(20)])\n",
        "\n",
        "    populacao_inical.append(temp)"
      ]
    },
    {
      "cell_type": "code",
      "execution_count": 83,
      "metadata": {
        "colab": {
          "base_uri": "https://localhost:8080/"
        },
        "id": "Saj1VOVZP_m8",
        "outputId": "726ca3db-e692-403a-965b-e37225cccba6"
      },
      "outputs": [
        {
          "name": "stdout",
          "output_type": "stream",
          "text": [
            "[[2, 0, 7, 7, 3, 4, 2, 4, 5, 7, 2, 6, 3, 0, 1, 7, 7, 0, 0, 8], [7, 0, 4, 7, 8, 4, 1, 3, 2, 5, 6, 5, 4, 6, 2, 0, 7, 5, 5, 3], [6, 6, 8, 0, 0, 6, 4, 3, 7, 3, 0, 3, 0, 2, 7, 2, 5, 6, 6, 8], [6, 1, 4, 1, 5, 7, 3, 4, 2, 8, 5, 1, 8, 8, 0, 4, 4, 4, 0, 4]]\n",
            "[[1, 6, 8, 2, 4, 6, 6, 6, 5, 1, 5, 6, 6, 0, 3, 5, 1, 4, 4, 1], [4, 2, 5, 4, 4, 8, 4, 7, 6, 1, 4, 0, 5, 1, 5, 6, 1, 2, 2, 7], [1, 4, 4, 5, 5, 6, 2, 0, 6, 8, 2, 4, 8, 8, 0, 7, 8, 3, 0, 5], [3, 2, 5, 7, 6, 8, 2, 2, 0, 7, 4, 6, 3, 0, 3, 4, 6, 5, 5, 4]]\n",
            "[[6, 8, 8, 1, 2, 8, 6, 2, 5, 0, 3, 8, 0, 3, 6, 4, 3, 8, 3, 5], [3, 6, 0, 5, 0, 0, 8, 0, 2, 2, 0, 8, 8, 5, 7, 2, 8, 6, 1, 8], [7, 5, 5, 8, 3, 8, 1, 5, 2, 7, 2, 6, 2, 7, 5, 5, 5, 7, 5, 2], [3, 2, 1, 5, 6, 4, 6, 6, 4, 7, 2, 5, 6, 2, 4, 3, 2, 0, 8, 3]]\n",
            "[[0, 7, 1, 6, 5, 2, 7, 5, 5, 1, 5, 2, 7, 7, 7, 8, 6, 0, 8, 3], [4, 2, 6, 0, 3, 5, 7, 8, 1, 1, 2, 5, 6, 8, 2, 5, 0, 2, 5, 8], [4, 8, 0, 2, 1, 6, 7, 8, 6, 8, 3, 3, 5, 1, 6, 7, 0, 2, 3, 5], [4, 0, 4, 7, 8, 6, 7, 5, 8, 7, 1, 1, 3, 8, 0, 6, 6, 5, 2, 8]]\n",
            "[[8, 2, 3, 0, 7, 0, 3, 6, 5, 4, 2, 3, 5, 4, 8, 6, 1, 8, 4, 3], [8, 0, 8, 1, 6, 3, 0, 5, 4, 3, 3, 1, 7, 3, 5, 7, 1, 0, 4, 2], [3, 8, 7, 0, 5, 7, 3, 7, 4, 7, 5, 5, 1, 6, 2, 1, 6, 3, 8, 7], [4, 6, 8, 8, 3, 3, 5, 7, 3, 0, 2, 2, 3, 8, 5, 1, 6, 8, 1, 1]]\n",
            "[[3, 0, 5, 2, 8, 5, 7, 4, 3, 6, 8, 5, 0, 0, 0, 4, 7, 8, 6, 3], [0, 4, 2, 0, 0, 8, 3, 1, 7, 6, 5, 7, 2, 4, 8, 1, 6, 3, 1, 3], [7, 1, 0, 3, 1, 1, 3, 4, 8, 7, 7, 1, 4, 1, 2, 2, 3, 0, 4, 7], [1, 0, 1, 1, 8, 8, 2, 8, 0, 5, 3, 2, 2, 3, 6, 5, 7, 2, 6, 2]]\n",
            "[[4, 7, 8, 4, 5, 1, 0, 8, 5, 6, 8, 4, 5, 2, 4, 1, 2, 4, 3, 8], [4, 7, 8, 6, 8, 6, 2, 0, 2, 8, 1, 2, 8, 7, 1, 3, 1, 0, 6, 8], [7, 2, 0, 4, 6, 1, 8, 0, 4, 4, 6, 7, 3, 5, 5, 4, 2, 1, 8, 2], [5, 7, 1, 3, 0, 7, 5, 6, 7, 7, 0, 4, 8, 6, 5, 6, 0, 0, 6, 1]]\n",
            "[[2, 3, 3, 2, 0, 5, 8, 1, 8, 6, 3, 1, 1, 4, 7, 7, 3, 2, 2, 8], [3, 7, 2, 7, 3, 8, 4, 4, 8, 3, 1, 6, 4, 0, 6, 8, 8, 0, 4, 4], [6, 5, 1, 0, 3, 2, 4, 6, 8, 2, 5, 0, 1, 4, 5, 1, 5, 4, 2, 0], [2, 7, 3, 3, 2, 8, 2, 1, 2, 6, 4, 5, 4, 0, 3, 5, 7, 7, 2, 2]]\n",
            "[[6, 8, 3, 3, 8, 8, 8, 4, 6, 4, 7, 8, 1, 0, 8, 8, 2, 6, 6, 6], [8, 3, 8, 1, 7, 2, 8, 0, 7, 2, 4, 5, 7, 7, 0, 0, 3, 3, 6, 0], [0, 8, 6, 5, 5, 5, 7, 7, 4, 0, 3, 8, 5, 6, 7, 3, 3, 6, 6, 7], [8, 0, 5, 7, 0, 4, 5, 0, 2, 8, 1, 8, 0, 5, 6, 6, 6, 5, 1, 6]]\n",
            "[[6, 8, 7, 7, 6, 0, 7, 4, 0, 1, 0, 2, 4, 3, 4, 0, 4, 6, 5, 3], [4, 4, 4, 6, 4, 7, 2, 6, 7, 8, 5, 2, 7, 0, 1, 8, 0, 5, 6, 0], [3, 7, 3, 2, 5, 4, 8, 3, 1, 4, 5, 6, 6, 7, 6, 1, 0, 4, 6, 0], [6, 2, 1, 3, 8, 1, 8, 3, 3, 6, 4, 1, 8, 0, 2, 2, 5, 1, 0, 1]]\n",
            "[[0, 8, 4, 0, 5, 0, 5, 7, 5, 4, 3, 2, 1, 0, 6, 8, 1, 8, 1, 1], [8, 5, 6, 2, 1, 6, 8, 5, 6, 5, 4, 2, 5, 0, 8, 7, 6, 4, 4, 3], [5, 0, 0, 6, 6, 7, 2, 4, 8, 3, 5, 2, 8, 2, 0, 1, 5, 6, 0, 1], [3, 0, 8, 7, 8, 4, 5, 8, 2, 6, 8, 1, 4, 7, 8, 6, 4, 7, 8, 2]]\n",
            "[[4, 2, 1, 3, 6, 4, 1, 6, 8, 0, 5, 8, 1, 2, 5, 7, 7, 3, 3, 8], [4, 2, 0, 6, 4, 7, 4, 0, 3, 2, 5, 0, 1, 8, 3, 8, 6, 0, 7, 1], [3, 0, 4, 8, 7, 1, 5, 5, 2, 8, 2, 4, 0, 6, 6, 1, 7, 5, 0, 0], [6, 8, 1, 7, 5, 0, 3, 2, 5, 2, 2, 6, 3, 2, 6, 3, 6, 6, 1, 4]]\n",
            "[[8, 4, 0, 1, 8, 0, 1, 8, 8, 5, 4, 4, 1, 8, 5, 1, 4, 5, 5, 6], [8, 4, 3, 0, 8, 5, 8, 6, 7, 1, 6, 6, 1, 7, 8, 4, 1, 5, 2, 6], [7, 6, 4, 3, 2, 0, 4, 1, 7, 5, 1, 3, 0, 3, 3, 6, 8, 1, 5, 7], [5, 2, 4, 4, 6, 1, 3, 2, 2, 7, 3, 2, 8, 3, 1, 8, 1, 8, 1, 6]]\n",
            "[[1, 5, 4, 4, 2, 4, 1, 7, 1, 2, 8, 3, 5, 3, 8, 1, 0, 7, 2, 6], [4, 4, 4, 2, 6, 6, 0, 8, 4, 0, 4, 8, 0, 3, 1, 0, 2, 0, 3, 8], [6, 4, 7, 5, 1, 6, 0, 6, 2, 5, 0, 6, 1, 8, 6, 2, 8, 7, 4, 5], [5, 3, 5, 3, 6, 0, 2, 4, 4, 0, 4, 0, 0, 2, 0, 5, 0, 1, 4, 2]]\n",
            "[[3, 7, 7, 7, 6, 7, 1, 5, 1, 8, 4, 8, 4, 3, 1, 0, 4, 2, 7, 2], [3, 5, 2, 2, 1, 7, 0, 0, 6, 3, 3, 8, 3, 3, 1, 7, 4, 0, 3, 5], [5, 8, 2, 2, 7, 7, 4, 7, 0, 8, 5, 8, 7, 1, 4, 1, 0, 1, 4, 3], [4, 3, 4, 3, 5, 1, 8, 7, 6, 8, 8, 3, 1, 7, 2, 6, 6, 3, 1, 5]]\n",
            "[[2, 4, 5, 6, 1, 2, 7, 3, 6, 1, 1, 1, 5, 8, 2, 5, 2, 7, 4, 7], [3, 7, 3, 5, 7, 8, 3, 3, 3, 7, 5, 2, 4, 7, 4, 6, 8, 6, 5, 8], [0, 7, 3, 3, 0, 8, 4, 7, 2, 2, 2, 3, 8, 0, 1, 2, 3, 4, 3, 6], [7, 0, 5, 1, 7, 4, 0, 1, 4, 4, 3, 6, 7, 2, 6, 3, 2, 4, 1, 4]]\n",
            "[[0, 7, 3, 4, 1, 1, 7, 7, 5, 4, 7, 0, 1, 3, 8, 7, 3, 4, 2, 5], [7, 3, 5, 6, 2, 8, 5, 3, 7, 7, 8, 3, 8, 0, 6, 3, 6, 4, 8, 0], [1, 5, 0, 1, 4, 1, 2, 4, 8, 6, 6, 7, 5, 6, 4, 7, 5, 0, 4, 8], [6, 5, 1, 7, 6, 0, 2, 8, 6, 4, 4, 6, 8, 3, 4, 7, 3, 0, 8, 4]]\n",
            "[[6, 4, 0, 2, 7, 4, 8, 0, 8, 1, 0, 7, 8, 1, 5, 7, 5, 2, 7, 7], [1, 2, 2, 1, 6, 6, 4, 0, 0, 0, 6, 8, 8, 0, 1, 5, 6, 5, 3, 2], [7, 5, 3, 6, 1, 5, 8, 8, 7, 0, 2, 6, 7, 6, 0, 5, 4, 0, 6, 3], [0, 8, 7, 1, 7, 8, 1, 3, 3, 0, 0, 8, 3, 5, 8, 0, 3, 8, 7, 3]]\n",
            "[[1, 6, 5, 5, 7, 8, 2, 5, 0, 4, 1, 2, 3, 4, 2, 3, 0, 5, 4, 0], [8, 1, 3, 8, 8, 5, 7, 5, 2, 6, 8, 7, 1, 5, 4, 7, 8, 4, 7, 0], [4, 4, 4, 1, 0, 0, 3, 5, 3, 6, 5, 7, 3, 6, 3, 6, 2, 1, 0, 0], [1, 4, 3, 3, 5, 0, 7, 8, 2, 4, 3, 2, 0, 2, 3, 3, 6, 4, 0, 2]]\n",
            "[[8, 4, 8, 3, 6, 6, 6, 7, 6, 5, 4, 2, 8, 4, 4, 4, 5, 2, 6, 5], [7, 2, 3, 3, 3, 0, 6, 3, 3, 6, 8, 6, 1, 8, 0, 1, 1, 5, 4, 0], [1, 1, 7, 2, 0, 4, 0, 2, 7, 8, 3, 5, 8, 8, 8, 1, 5, 1, 3, 1], [3, 2, 1, 7, 3, 2, 2, 4, 0, 6, 7, 6, 0, 1, 2, 2, 6, 6, 2, 6]]\n"
          ]
        }
      ],
      "source": [
        "# Visualizar população inicial\n",
        "for t in populacao_inical:\n",
        "    print(t)"
      ]
    },
    {
      "cell_type": "markdown",
      "metadata": {
        "id": "0fNupQtQP_m8"
      },
      "source": [
        "# Função Fitness"
      ]
    },
    {
      "cell_type": "markdown",
      "metadata": {
        "id": "UEn88vgUvyP7"
      },
      "source": [
        "O cálculo da função fitness é feito da seguinte maneira:\n",
        "\n",
        "![Cálculo função fitness](data:image/png;base64,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)\n",
        "\n",
        "Fonte: [Mahlous AR, Mahlous H. Student timetabling genetic algorithm accounting for student preferences. PeerJ Comput Sci. 2023 Feb 14;9:e1200. doi: 10.7717/peerj-cs.1200. PMID: 37346570; PMCID: PMC10280284.](https://www.ncbi.nlm.nih.gov/pmc/articles/PMC10280284/)"
      ]
    },
    {
      "cell_type": "markdown",
      "metadata": {
        "id": "QQSC7Uaby_We"
      },
      "source": [
        "Ao utilizar essa abordagem para a função fitness, é possível observar que, quanto mais Soft Constraints violadas, mais positivo (> 0) a aptidão tende a ser, e que quanto mais Hard Constraints violadas, mais negativa (< 0) a aptidão tende a ser. Além disso, essa abordagem, junto com um valores satisfatório de pesos, garante que a violação de uma Hard Constraint seja mais impactante para o valor de aptidão."
      ]
    },
    {
      "cell_type": "markdown",
      "metadata": {
        "id": "vaqEYwsvw_WF"
      },
      "source": [
        "## Pesos das Constraints"
      ]
    },
    {
      "cell_type": "code",
      "execution_count": 84,
      "metadata": {
        "id": "3ohlSz21kLOJ"
      },
      "outputs": [],
      "source": [
        "peso_hc1 = 8\n",
        "peso_hc2 = 8\n",
        "peso_sc1 = 3\n",
        "peso_sc2 = 2"
      ]
    },
    {
      "cell_type": "markdown",
      "metadata": {
        "id": "eytZhkYOxEZl"
      },
      "source": [
        "## Implementação Função Fitness"
      ]
    },
    {
      "cell_type": "code",
      "execution_count": 85,
      "metadata": {
        "id": "LqQcczYVQB4K"
      },
      "outputs": [],
      "source": [
        "def fitness(cromossomo: list[int]) -> float:\n",
        "    \"\"\"\n",
        "    Função que para calcular a aptidão de cada cromossomo\n",
        "\n",
        "    Inicialmente é calculada a quantidade de vezes que cada constraint é violada\n",
        "    Com esses valores é então obtido o valor de aptidão com base no seguinte\n",
        "    cálculo:\n",
        "         (sc_1*peso_sc1 + sc_2*peso_sc2) - (hc_1*peso_hc1 + hc_2*peso_hc2)**2\n",
        "    \"\"\"\n",
        "\n",
        "    # Contadores constraints\n",
        "    hc_1 = 0    # Um professor não pode estar em aula em duas turmas no mesmo horário\n",
        "    hc_2 = 0    # Todas as turmas devem cumprir as cargas horárias das disciplinas\n",
        "    sc_1 = 0    # Uma turma não deve ter duas aulas seguidas da mesma matéria\n",
        "    sc_2 = 0    # Deve-se evitar ao máximo que uma turma tenha aulas seguidas com o mesmo professor\n",
        "\n",
        "    p_ano, s_ano, t_ano, cursinho = cromossomo\n",
        "\n",
        "    # hc1 -> Identificar se um mesmo professor está em aula em duas turmas no mesmo horário\n",
        "    for aula_p_ano, aula_s_ano, aula_t_ano, aula_cursinho in zip(p_ano, s_ano, t_ano, cursinho):\n",
        "        professores = [\n",
        "            dataset.loc[aula_p_ano]['Professor'],\n",
        "            dataset.loc[aula_s_ano]['Professor'],\n",
        "            dataset.loc[aula_t_ano]['Professor'],\n",
        "            dataset.loc[aula_cursinho]['Professor']\n",
        "        ]\n",
        "\n",
        "        professores_unicos = set(professores)\n",
        "\n",
        "        hc_1 += len(professores) - len(professores_unicos)\n",
        "\n",
        "    # hc2 -> Todas as turmas devem cumprir as cargas horárias das disciplinas\n",
        "    # sc1 -> Uma turma não deve ter duas aulas seguidas da mesma matéria\n",
        "    for turma in cromossomo:\n",
        "        # hc2\n",
        "        aps = [turma.count(i) for i in range(len(dataset))]\n",
        "        aps = [dataset.loc[i]['Aulas por Semana'] == aps[i] for i, _ in enumerate(aps)]\n",
        "\n",
        "        # sc1\n",
        "        aulas_seguidas = [turma[i] == turma[i+1] for i in range(len(turma) - 1)]\n",
        "\n",
        "        # sc2\n",
        "        professores = [dataset.loc[i]['Professor'] for i in turma]\n",
        "        professores_seguidos = []\n",
        "        for i in range(len(professores) - 1):\n",
        "            # Índices correspondentes aos últimos horários dos dias (3, 7, 11...)\n",
        "            if i % 4 == 3: continue\n",
        "\n",
        "            professores_seguidos.append(professores[i] == professores[i+1])\n",
        "\n",
        "        hc_2 += aps.count(False)\n",
        "        sc_1 += aulas_seguidas.count(True)\n",
        "        sc_2 += professores_seguidos.count(True)\n",
        "\n",
        "    return (sc_1*peso_sc1 + sc_2*peso_sc2) - (hc_1*peso_hc1 + hc_2*peso_hc2)**2"
      ]
    },
    {
      "cell_type": "markdown",
      "metadata": {
        "id": "48yhZQgg4R_9"
      },
      "source": [
        "## Ordenar a população com base nas suas aptidões.\n",
        "\n",
        "Para essa ordenação é criada uma lista auxiliar de tuplas, onde cada tupla possui os seguintes valores (índice do cromossomo, aptidão do cromossomo).\n",
        "\n",
        "Como o valor da aptidão dos cromossomo pode ser negativa, a ordenação ocorre em duas etapas.\n",
        "\n",
        "A primeira etapa ordena em ordem crescente os valores maiores que zero.  \n",
        "A segunda etapa ordena em ordem decrescente os valores menores que zero.\n",
        "\n",
        "No final têm-se uma lista de tuplas ordenadas onde os valores positivos são sempre melhores que os valores negativos, e os valores positivos são ordenados em ordem crescente, enquanto os negativos em ordem decrescente."
      ]
    },
    {
      "cell_type": "code",
      "execution_count": 86,
      "metadata": {
        "colab": {
          "base_uri": "https://localhost:8080/"
        },
        "id": "DKEFCvYFmyI4",
        "outputId": "3025f2b7-8840-4d14-d8bf-77e7cb0d02ed"
      },
      "outputs": [
        {
          "data": {
            "text/plain": [
              "[(1, -123841),\n",
              " (10, -129570),\n",
              " (18, -141326),\n",
              " (6, -141336),\n",
              " (9, -141336),\n",
              " (5, -147399),\n",
              " (13, -147418),\n",
              " (19, -153584),\n",
              " (14, -153606),\n",
              " (2, -153624),\n",
              " (11, -153625),\n",
              " (8, -159916),\n",
              " (17, -159951),\n",
              " (15, -159956),\n",
              " (16, -166423),\n",
              " (4, -166426),\n",
              " (0, -172996),\n",
              " (3, -173015),\n",
              " (12, -193553),\n",
              " (7, -215240)]"
            ]
          },
          "execution_count": 86,
          "metadata": {},
          "output_type": "execute_result"
        }
      ],
      "source": [
        "# Gerar lista ordenada com base na aptidão de cada cromossomo\n",
        "controle_fitness = []\n",
        "for i, cromossomo in enumerate(populacao_inical):\n",
        "    controle_fitness.append((i, fitness(cromossomo)))\n",
        "\n",
        "controle_fitness_pos = []\n",
        "controle_fitness_neg = []\n",
        "\n",
        "for popul in controle_fitness:\n",
        "    if popul[1] > 0:\n",
        "        controle_fitness_pos.append(popul)\n",
        "    else:\n",
        "        controle_fitness_neg.append(popul)\n",
        "\n",
        "controle_fitness_pos.sort(key=lambda x: x[1])\n",
        "controle_fitness_neg.sort(key=lambda x: abs(x[1]))\n",
        "\n",
        "controle_fitness = controle_fitness_pos + controle_fitness_neg\n",
        "controle_fitness"
      ]
    },
    {
      "cell_type": "markdown",
      "metadata": {
        "id": "S1MqaTqzxfSs"
      },
      "source": [
        "# Função Crossover"
      ]
    },
    {
      "cell_type": "code",
      "execution_count": null,
      "metadata": {},
      "outputs": [],
      "source": [
        "def crossover(cromossomo_a: list[int], cromossomo_b: list[int]) -> tuple[list[int], list[int]]:\n",
        "    cromossomo_c = []\n",
        "    cromossomo_d = []\n",
        "\n",
        "    for turma_a, turma_b in zip(cromossomo_a, cromossomo_b):\n",
        "        temp_c = []\n",
        "        temp_d = []\n",
        "\n",
        "        for i, _ in enumerate(turma_a):\n",
        "            if i % 2 == 0:\n",
        "                temp_c.append(turma_a[i])\n",
        "                temp_d.append(turma_b[i])\n",
        "            else:\n",
        "                temp_c.append(turma_b[i])\n",
        "                temp_d.append(turma_a[i])\n",
        "\n",
        "        cromossomo_c.append(temp_c)\n",
        "        cromossomo_d.append(temp_d)\n",
        "\n",
        "    return cromossomo_c, cromossomo_d"
      ]
    },
    {
      "cell_type": "markdown",
      "metadata": {
        "id": "fU_PQZT9xkEL"
      },
      "source": [
        "# Função de Mutação"
      ]
    },
    {
      "cell_type": "code",
      "execution_count": null,
      "metadata": {
        "id": "xP04krVBxswB"
      },
      "outputs": [],
      "source": [
        "import random as rnd\n",
        "\n",
        "def mutacao(cromossomo: list[int]) -> None:\n",
        "    turma1 = rnd.randint(0, 3)\n",
        "    turma2 = rnd.randint(0, 3)\n",
        "    while(turma2 == turma1):\n",
        "        turma2 = rnd.randint(0, 3)\n",
        "    aula1 = rnd.randint(0, 19)\n",
        "    aula2 = rnd.randint(0, 19)\n",
        "\n",
        "    cromossomo[turma1][aula1] = rnd.randint(0, 8)\n",
        "    cromossomo[turma2][aula2] = rnd.randint(0, 8)\n"
      ]
    },
    {
      "cell_type": "markdown",
      "metadata": {
        "id": "y-TeMOSoNsps"
      },
      "source": [
        "# Algoritmo completo / Sequencial"
      ]
    },
    {
      "cell_type": "code",
      "execution_count": 1,
      "metadata": {
        "colab": {
          "base_uri": "https://localhost:8080/",
          "height": 247
        },
        "id": "ONFX_ZPvNsOE",
        "outputId": "1410eeef-7e16-4f75-8b28-48229b62f6c4"
      },
      "outputs": [
        {
          "name": "stdout",
          "output_type": "stream",
          "text": [
            "[[1, 1, 3, 0, 3, 4, 6, 3, 5, 0, 5, 2, 2, 7, 6, 3, 4, 8, 8, 2], [2, 0, 4, 1, 8, 3, 6, 1, 3, 5, 5, 6, 8, 1, 8, 1, 6, 4, 2, 4], [7, 7, 5, 6, 5, 4, 1, 2, 4, 1, 3, 5, 6, 8, 3, 2, 1, 6, 2, 1], [6, 5, 2, 3, 5, 7, 4, 7, 0, 6, 7, 0, 2, 1, 0, 4, 6, 5, 7, 4]] -920.2600000000001\n",
            "[[2, 8, 6, 0, 4, 2, 8, 2, 3, 4, 4, 2, 3, 8, 8, 4, 1, 0, 5, 0], [4, 3, 8, 0, 1, 2, 2, 3, 0, 1, 8, 6, 7, 0, 0, 7, 0, 1, 0, 1], [7, 6, 2, 8, 5, 2, 4, 4, 0, 0, 5, 2, 1, 1, 0, 3, 3, 4, 8, 5], [6, 3, 8, 1, 7, 4, 2, 0, 7, 5, 6, 1, 2, 2, 5, 0, 6, 3, 1, 4]] -1018.7\n",
            "[[5, 3, 2, 0, 0, 6, 5, 0, 7, 5, 4, 3, 4, 6, 0, 1, 1, 2, 6, 3], [5, 5, 0, 0, 3, 1, 4, 8, 8, 6, 2, 4, 5, 0, 6, 2, 5, 8, 8, 6], [8, 0, 8, 1, 4, 8, 0, 7, 7, 0, 8, 4, 6, 3, 4, 5, 5, 6, 5, 2], [2, 1, 6, 7, 1, 4, 3, 7, 2, 0, 1, 5, 1, 1, 3, 6, 7, 7, 2, 6]] -1069.8400000000004\n",
            "############################################################################################################################################################################################################################################################################################################\n",
            "[[1, 1, 3, 0, 3, 4, 6, 3, 5, 0, 5, 2, 2, 7, 6, 3, 4, 8, 8, 2], [2, 0, 4, 1, 8, 3, 6, 1, 3, 5, 5, 6, 8, 1, 8, 1, 6, 4, 2, 4], [7, 7, 5, 6, 5, 4, 1, 2, 4, 1, 3, 5, 6, 8, 3, 2, 1, 6, 2, 1], [6, 5, 2, 3, 5, 7, 4, 7, 0, 6, 7, 0, 2, 1, 0, 4, 6, 5, 7, 4]] -919.6600000000003\n",
            "[[1, 8, 3, 0, 3, 2, 6, 2, 5, 4, 5, 2, 2, 8, 6, 4, 4, 0, 8, 0], [2, 3, 4, 0, 8, 2, 6, 3, 3, 1, 5, 6, 8, 0, 8, 7, 6, 1, 2, 1], [7, 6, 5, 8, 5, 2, 1, 4, 4, 0, 3, 2, 6, 1, 3, 3, 1, 4, 2, 5], [6, 3, 2, 1, 5, 4, 4, 0, 0, 5, 7, 1, 2, 2, 0, 0, 6, 3, 7, 4]] -919.6600000000003\n",
            "[[1, 1, 3, 0, 3, 4, 6, 3, 5, 0, 5, 2, 2, 7, 6, 3, 4, 8, 8, 2], [2, 0, 4, 1, 8, 3, 6, 1, 3, 5, 5, 6, 8, 1, 8, 1, 6, 4, 2, 4], [7, 7, 5, 6, 5, 4, 1, 2, 4, 1, 3, 5, 6, 8, 3, 2, 1, 6, 2, 1], [6, 5, 2, 3, 5, 7, 4, 7, 0, 6, 7, 0, 2, 1, 0, 4, 6, 5, 7, 4]] -919.6600000000003\n"
          ]
        }
      ],
      "source": [
        "import pandas as pd\n",
        "import random as rnd\n",
        "\n",
        "# Constantes\n",
        "PESO_HC1 = 0.8\n",
        "PESO_HC2 = 0.8\n",
        "PESO_SC1 = 0.3\n",
        "PESO_SC2 = 0.2\n",
        "TAM_POPULACAO_INICIAL = 200\n",
        "GERACOES = 500\n",
        "TAXA_MUTACAO = 0.1\n",
        "\n",
        "\n",
        "def fitness(cromossomo: list[int]) -> float:\n",
        "    \"\"\"\n",
        "    Função que para calcular a aptidão de cada cromossomo\n",
        "\n",
        "    Inicialmente é calculada a quantidade de vezes que cada constraint é violada\n",
        "    Com esses valores é então obtido o valor de aptidão com base no seguinte\n",
        "    cálculo:\n",
        "         (sc_1*PESO_SC1 + sc_2*PESO_SC2) - (hc_1*PESO_HC1 + hc_2*PESO_HC2)**2\n",
        "    \"\"\"\n",
        "\n",
        "    # Contadores constraints\n",
        "    hc_1 = 0    # Um professor não pode estar em aula em duas turmas no mesmo horário\n",
        "    hc_2 = 0    # Todas as turmas devem cumprir as cargas horárias das disciplinas\n",
        "    sc_1 = 0    # Uma turma não deve ter duas aulas seguidas da mesma matéria\n",
        "    sc_2 = 0    # Deve-se evitar ao máximo que uma turma tenha aulas seguidas com o mesmo professor\n",
        "\n",
        "    p_ano, s_ano, t_ano, cursinho = cromossomo\n",
        "\n",
        "    # hc1 -> Identificar se um mesmo professor está em aula em duas turmas no mesmo horário\n",
        "    for aula_p_ano, aula_s_ano, aula_t_ano, aula_cursinho in zip(p_ano, s_ano, t_ano, cursinho):\n",
        "        professores = [\n",
        "            dataset.loc[aula_p_ano]['Professor'],\n",
        "            dataset.loc[aula_s_ano]['Professor'],\n",
        "            dataset.loc[aula_t_ano]['Professor'],\n",
        "            dataset.loc[aula_cursinho]['Professor']\n",
        "        ]\n",
        "\n",
        "        professores_unicos = set(professores)\n",
        "\n",
        "        hc_1 += len(professores) - len(professores_unicos)\n",
        "\n",
        "    # hc2 -> Todas as turmas devem cumprir as cargas horárias das disciplinas\n",
        "    # sc1 -> Uma turma não deve ter duas aulas seguidas da mesma matéria\n",
        "    for turma in cromossomo:\n",
        "        # hc2\n",
        "        aps = [turma.count(i) for i in range(len(dataset))]\n",
        "        aps = [dataset.loc[i]['Aulas por Semana'] == aps[i] for i, _ in enumerate(aps)]\n",
        "\n",
        "        # sc1\n",
        "        aulas_seguidas = [turma[i] == turma[i+1] for i in range(len(turma) - 1)]\n",
        "\n",
        "        # sc2\n",
        "        professores = [dataset.loc[i]['Professor'] for i in turma]\n",
        "        professores_seguidos = []\n",
        "        for i in range(len(professores) - 1):\n",
        "            # Índices correspondentes aos últimos horários dos dias (3, 7, 11...)\n",
        "            if i % 4 == 3: continue\n",
        "\n",
        "            professores_seguidos.append(professores[i] == professores[i+1])\n",
        "\n",
        "        hc_2 += aps.count(False)\n",
        "        sc_1 += aulas_seguidas.count(True)\n",
        "        sc_2 += professores_seguidos.count(True)\n",
        "\n",
        "    return (sc_1*PESO_SC1 + sc_2*PESO_SC2) - (hc_1*PESO_HC1 + hc_2*PESO_HC2)**2\n",
        "\n",
        "\n",
        "def crossover(cromossomo_a: list[int], cromossomo_b: list[int]) -> tuple[list[int], list[int]]:\n",
        "    cromossomo_c = []\n",
        "    cromossomo_d = []\n",
        "\n",
        "    for turma_a, turma_b in zip(cromossomo_a, cromossomo_b):\n",
        "        temp_c = []\n",
        "        temp_d = []\n",
        "\n",
        "        for i, _ in enumerate(turma_a):\n",
        "            if i % 2 == 0:\n",
        "                temp_c.append(turma_a[i])\n",
        "                temp_d.append(turma_b[i])\n",
        "            else:\n",
        "                temp_c.append(turma_b[i])\n",
        "                temp_d.append(turma_a[i])\n",
        "\n",
        "        cromossomo_c.append(temp_c)\n",
        "        cromossomo_d.append(temp_d)\n",
        "\n",
        "    return cromossomo_c, cromossomo_d\n",
        "\n",
        "\n",
        "def mutacao(cromossomo: list[int]) -> None:\n",
        "    turma1 = rnd.randint(0, 3)\n",
        "    turma2 = rnd.randint(0, 3)\n",
        "    while(turma2 == turma1):\n",
        "        turma2 = rnd.randint(0, 3)\n",
        "    aula1 = rnd.randint(0, 19)\n",
        "    aula2 = rnd.randint(0, 19)\n",
        "\n",
        "    cromossomo[turma1][aula1] = rnd.randint(0, 8)\n",
        "    cromossomo[turma2][aula2] = rnd.randint(0, 8)\n",
        "\n",
        "\n",
        "if __name__ == \"__main__\":\n",
        "    # Ler o dataset\n",
        "    dataset = pd.read_csv('disciplinas.csv', sep=';')\n",
        "\n",
        "    # Criar população inicial\n",
        "    populacao_inicial = []\n",
        "\n",
        "    for i in range(TAM_POPULACAO_INICIAL):\n",
        "        temp = []\n",
        "\n",
        "        for line in range(4):\n",
        "            temp.append([rnd.randrange(0, 9) for _ in range(20)])\n",
        "\n",
        "        populacao_inicial.append(temp)\n",
        "\n",
        "    # Gerar lista ordenada com base na aptidão de cada cromossomo\n",
        "    controle_fitness = []\n",
        "    for i, cromossomo in enumerate(populacao_inicial):\n",
        "        controle_fitness.append((i, fitness(cromossomo)))\n",
        "\n",
        "    controle_fitness_pos = []\n",
        "    controle_fitness_neg = []\n",
        "\n",
        "    for popul in controle_fitness:\n",
        "        if popul[1] > 0:\n",
        "            controle_fitness_pos.append(popul)\n",
        "        else:\n",
        "            controle_fitness_neg.append(popul)\n",
        "\n",
        "    controle_fitness_pos.sort(key=lambda x: x[1])\n",
        "    controle_fitness_neg.sort(key=lambda x: abs(x[1]))\n",
        "\n",
        "    controle_fitness = controle_fitness_pos + controle_fitness_neg\n",
        "\n",
        "    print(populacao_inicial[controle_fitness[0][0]], controle_fitness[0][1])\n",
        "    print(populacao_inicial[controle_fitness[1][0]], controle_fitness[1][1])\n",
        "    print(populacao_inicial[controle_fitness[2][0]], controle_fitness[2][1])\n",
        "\n",
        "    for i in range(GERACOES):\n",
        "        # Escolher cromossomos para realizar crossover\n",
        "        cromossomo_a, cromossomo_b = crossover(populacao_inicial[controle_fitness[0][0]], populacao_inicial[controle_fitness[1][0]])\n",
        "\n",
        "        populacao_inicial[-1] = cromossomo_a\n",
        "        populacao_inicial[-2] = cromossomo_b\n",
        "\n",
        "        controle_fitness[-1] = (len(populacao_inicial) - 1, fitness(cromossomo_a))\n",
        "        controle_fitness[-2] = (len(populacao_inicial) - 2, fitness(cromossomo_b))\n",
        "\n",
        "        if rnd.random() <= TAXA_MUTACAO:\n",
        "            pos = rnd.randint(0, len(populacao_inicial) - 1)\n",
        "            mutacao(populacao_inicial[pos])\n",
        "\n",
        "            for i, controle in enumerate(controle_fitness):\n",
        "                if controle[0] == pos:\n",
        "                    controle_fitness[i] = (pos, fitness(populacao_inicial[pos]))\n",
        "\n",
        "        controle_fitness_pos = []\n",
        "        controle_fitness_neg = []\n",
        "\n",
        "        for popul in controle_fitness:\n",
        "            if popul[1] > 0:\n",
        "                controle_fitness_pos.append(popul)\n",
        "            else:\n",
        "                controle_fitness_neg.append(popul)\n",
        "\n",
        "        controle_fitness_pos.sort(key=lambda x: x[1])\n",
        "        controle_fitness_neg.sort(key=lambda x: abs(x[1]))\n",
        "\n",
        "        controle_fitness = controle_fitness_pos + controle_fitness_neg\n",
        "\n",
        "    print(\"#\"*300)\n",
        "    print(populacao_inicial[controle_fitness[0][0]], controle_fitness[0][1])\n",
        "    print(populacao_inicial[controle_fitness[1][0]], controle_fitness[1][1])\n",
        "    print(populacao_inicial[controle_fitness[2][0]], controle_fitness[2][1])\n",
        "\n"
      ]
    }
  ],
  "metadata": {
    "colab": {
      "collapsed_sections": [
        "tP0b-QcFP_mv",
        "87_r5kS4P_mz",
        "jrP6EwGMP_m1",
        "6CVHudAeP_m4",
        "nEfgtPswP_m7",
        "vaqEYwsvw_WF",
        "eytZhkYOxEZl",
        "S1MqaTqzxfSs",
        "fU_PQZT9xkEL"
      ],
      "provenance": []
    },
    "kernelspec": {
      "display_name": "venv",
      "language": "python",
      "name": "python3"
    },
    "language_info": {
      "codemirror_mode": {
        "name": "ipython",
        "version": 3
      },
      "file_extension": ".py",
      "mimetype": "text/x-python",
      "name": "python",
      "nbconvert_exporter": "python",
      "pygments_lexer": "ipython3",
      "version": "3.11.1"
    },
    "orig_nbformat": 4
  },
  "nbformat": 4,
  "nbformat_minor": 0
}
